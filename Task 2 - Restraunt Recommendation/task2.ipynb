{
 "cells": [
  {
   "cell_type": "markdown",
   "metadata": {},
   "source": [
    "# Loading Libraries"
   ]
  },
  {
   "cell_type": "code",
   "execution_count": 1,
   "metadata": {},
   "outputs": [],
   "source": [
    "import pandas as pd\n",
    "from sklearn.metrics.pairwise import cosine_similarity"
   ]
  },
  {
   "cell_type": "markdown",
   "metadata": {},
   "source": [
    "# Load the dataset"
   ]
  },
  {
   "cell_type": "code",
   "execution_count": 2,
   "metadata": {},
   "outputs": [],
   "source": [
    "file_path = 'Dataset .csv'\n",
    "data = pd.read_csv(file_path)\n"
   ]
  },
  {
   "cell_type": "markdown",
   "metadata": {},
   "source": [
    "# Preprocess the dataset"
   ]
  },
  {
   "cell_type": "markdown",
   "metadata": {},
   "source": [
    "Handle missing values"
   ]
  },
  {
   "cell_type": "code",
   "execution_count": 3,
   "metadata": {},
   "outputs": [],
   "source": [
    "\n",
    "data.fillna('', inplace=True)"
   ]
  },
  {
   "cell_type": "markdown",
   "metadata": {},
   "source": [
    "# Converting 'Average Cost for two' and 'Aggregate rating' to numeric"
   ]
  },
  {
   "cell_type": "code",
   "execution_count": 4,
   "metadata": {},
   "outputs": [],
   "source": [
    "\n",
    "data['Average Cost for two'] = pd.to_numeric(data['Average Cost for two'], errors='coerce')\n",
    "data['Aggregate rating'] = pd.to_numeric(data['Aggregate rating'], errors='coerce')"
   ]
  },
  {
   "cell_type": "markdown",
   "metadata": {},
   "source": [
    "# Dropping rows with NaN values in numeric columns\n"
   ]
  },
  {
   "cell_type": "code",
   "execution_count": 5,
   "metadata": {},
   "outputs": [],
   "source": [
    "data.dropna(subset=['Average Cost for two', 'Aggregate rating'], inplace=True)"
   ]
  },
  {
   "cell_type": "markdown",
   "metadata": {},
   "source": [
    "# Select only necessary columns\n"
   ]
  },
  {
   "cell_type": "code",
   "execution_count": 6,
   "metadata": {},
   "outputs": [],
   "source": [
    "columns_to_keep = ['Restaurant Name', 'Cuisines', 'Average Cost for two', 'Aggregate rating']\n",
    "data = data[columns_to_keep]"
   ]
  },
  {
   "cell_type": "markdown",
   "metadata": {},
   "source": [
    "# Encode categorical variables"
   ]
  },
  {
   "cell_type": "code",
   "execution_count": 7,
   "metadata": {},
   "outputs": [],
   "source": [
    "data_encoded = data.copy()\n",
    "data_encoded = pd.get_dummies(data_encoded, columns=['Cuisines'])\n"
   ]
  },
  {
   "cell_type": "markdown",
   "metadata": {},
   "source": [
    "# Normalize numeric columns"
   ]
  },
  {
   "cell_type": "code",
   "execution_count": 8,
   "metadata": {},
   "outputs": [],
   "source": [
    "data_encoded['Average Cost for two'] = (data_encoded['Average Cost for two'] - data_encoded['Average Cost for two'].min()) / (data_encoded['Average Cost for two'].max() - data_encoded['Average Cost for two'].min())\n",
    "data_encoded['Aggregate rating'] = (data_encoded['Aggregate rating'] - data_encoded['Aggregate rating'].min()) / (data_encoded['Aggregate rating'].max() - data_encoded['Aggregate rating'].min())"
   ]
  },
  {
   "cell_type": "markdown",
   "metadata": {},
   "source": [
    "# Ensure only numeric data is used for cosine similarity"
   ]
  },
  {
   "cell_type": "code",
   "execution_count": 9,
   "metadata": {},
   "outputs": [],
   "source": [
    "data_encoded = data_encoded.select_dtypes(include=[float, int])\n"
   ]
  },
  {
   "cell_type": "markdown",
   "metadata": {},
   "source": [
    "# Implementing content-based filtering"
   ]
  },
  {
   "cell_type": "code",
   "execution_count": 10,
   "metadata": {},
   "outputs": [],
   "source": [
    "def recommend_restaurants(preferences, data, original_data, top_n=5):\n",
    "    # Convert preferences to DataFrame\n",
    "    preferences_df = pd.DataFrame([preferences])\n",
    "    \n",
    "    # Normalize preference values\n",
    "    preferences_df['Average Cost for two'] = (preferences_df['Average Cost for two'] - data['Average Cost for two'].min()) / (data['Average Cost for two'].max() - data['Average Cost for two'].min())\n",
    "    preferences_df['Aggregate rating'] = (preferences_df['Aggregate rating'] - data['Aggregate rating'].min()) / (data['Aggregate rating'].max() - data['Aggregate rating'].min())\n",
    "    \n",
    "    # Encode preferences\n",
    "    preferences_encoded = pd.get_dummies(preferences_df, columns=['Cuisines'])\n",
    "    preferences_encoded = preferences_encoded.reindex(columns=data.columns, fill_value=0)\n",
    "    \n",
    "    # Ensure only numeric data is used for cosine similarity\n",
    "    preferences_encoded = preferences_encoded.select_dtypes(include=[float, int])\n",
    "    \n",
    "    # Compute cosine similarity\n",
    "    similarity_matrix = cosine_similarity(data, preferences_encoded)\n",
    "    \n",
    "    # Get top N recommendations\n",
    "    top_indices = similarity_matrix.flatten().argsort()[-top_n:][::-1]\n",
    "    recommended_restaurants = original_data.iloc[top_indices]\n",
    "    \n",
    "    return recommended_restaurants"
   ]
  },
  {
   "cell_type": "markdown",
   "metadata": {},
   "source": [
    "# Example user preferences"
   ]
  },
  {
   "cell_type": "code",
   "execution_count": 11,
   "metadata": {},
   "outputs": [],
   "source": [
    "user_preferences = {\n",
    "    'Cuisines': 'Italian',\n",
    "    'Average Cost for two': 500,\n",
    "    'Aggregate rating': 4.5\n",
    "}"
   ]
  },
  {
   "cell_type": "markdown",
   "metadata": {},
   "source": [
    "# Get recommendations"
   ]
  },
  {
   "cell_type": "code",
   "execution_count": 12,
   "metadata": {},
   "outputs": [],
   "source": [
    "recommendations = recommend_restaurants(user_preferences, data_encoded, data)"
   ]
  },
  {
   "cell_type": "markdown",
   "metadata": {},
   "source": [
    "# Display recommendations"
   ]
  },
  {
   "cell_type": "code",
   "execution_count": 13,
   "metadata": {},
   "outputs": [
    {
     "name": "stdout",
     "output_type": "stream",
     "text": [
      "Recommended Restaurants:\n",
      "            Restaurant Name             Cuisines  Average Cost for two  \\\n",
      "30           Sandubas Caf��      Brazilian, Cafe                    30   \n",
      "58    Quiosque Chopp Brahma  Bar Food, Brazilian                    70   \n",
      "6331              Keventers            Beverages                   400   \n",
      "6332              Muncheezz              Chinese                   300   \n",
      "6333            Shaketastic            Beverages                   250   \n",
      "\n",
      "      Aggregate rating  \n",
      "30                 0.0  \n",
      "58                 0.0  \n",
      "6331               0.0  \n",
      "6332               0.0  \n",
      "6333               0.0  \n"
     ]
    }
   ],
   "source": [
    "print(\"Recommended Restaurants:\")\n",
    "print(recommendations[['Restaurant Name', 'Cuisines', 'Average Cost for two', 'Aggregate rating']])"
   ]
  },
  {
   "cell_type": "markdown",
   "metadata": {},
   "source": [
    "# Testing the recommendation system with sample preferences"
   ]
  },
  {
   "cell_type": "code",
   "execution_count": 14,
   "metadata": {},
   "outputs": [],
   "source": [
    "sample_preferences = {\n",
    "    'Cuisines': 'Chinese',\n",
    "    'Average Cost for two': 300,\n",
    "    'Aggregate rating': 4.0\n",
    "}"
   ]
  },
  {
   "cell_type": "markdown",
   "metadata": {},
   "source": [
    "# Getting sample recommendations"
   ]
  },
  {
   "cell_type": "code",
   "execution_count": 15,
   "metadata": {},
   "outputs": [],
   "source": [
    "sample_recommendations = recommend_restaurants(sample_preferences, data_encoded, data)"
   ]
  },
  {
   "cell_type": "markdown",
   "metadata": {},
   "source": [
    "# Displaying sample recommendations"
   ]
  },
  {
   "cell_type": "code",
   "execution_count": 16,
   "metadata": {},
   "outputs": [
    {
     "name": "stdout",
     "output_type": "stream",
     "text": [
      "\n",
      "Sample Recommendations:\n",
      "            Restaurant Name             Cuisines  Average Cost for two  \\\n",
      "30           Sandubas Caf��      Brazilian, Cafe                    30   \n",
      "58    Quiosque Chopp Brahma  Bar Food, Brazilian                    70   \n",
      "6331              Keventers            Beverages                   400   \n",
      "6332              Muncheezz              Chinese                   300   \n",
      "6333            Shaketastic            Beverages                   250   \n",
      "\n",
      "      Aggregate rating  \n",
      "30                 0.0  \n",
      "58                 0.0  \n",
      "6331               0.0  \n",
      "6332               0.0  \n",
      "6333               0.0  \n"
     ]
    }
   ],
   "source": [
    "print(\"\\nSample Recommendations:\")\n",
    "print(sample_recommendations[['Restaurant Name', 'Cuisines', 'Average Cost for two', 'Aggregate rating']])"
   ]
  }
 ],
 "metadata": {
  "kernelspec": {
   "display_name": "Python 3",
   "language": "python",
   "name": "python3"
  },
  "language_info": {
   "codemirror_mode": {
    "name": "ipython",
    "version": 3
   },
   "file_extension": ".py",
   "mimetype": "text/x-python",
   "name": "python",
   "nbconvert_exporter": "python",
   "pygments_lexer": "ipython3",
   "version": "3.12.4"
  }
 },
 "nbformat": 4,
 "nbformat_minor": 2
}
